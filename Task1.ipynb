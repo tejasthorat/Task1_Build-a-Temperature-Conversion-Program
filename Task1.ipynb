{
 "cells": [
  {
   "cell_type": "markdown",
   "id": "1df6d857",
   "metadata": {},
   "source": [
    "# Build a Temperature Conversion Program"
   ]
  },
  {
   "cell_type": "code",
   "execution_count": 1,
   "id": "40aa8ea8",
   "metadata": {},
   "outputs": [
    {
     "name": "stdout",
     "output_type": "stream",
     "text": [
      "Enter the temperature value: 35\n",
      "Enter the unit of the temperature (C, F, K): C\n",
      "35.0°C is 95.0°F and 308.15K.\n"
     ]
    }
   ],
   "source": [
    "def celsius_to_fahrenheit(celsius):\n",
    "    return (celsius * 9/5) + 32\n",
    "\n",
    "def celsius_to_kelvin(celsius):\n",
    "    return celsius + 273.15\n",
    "\n",
    "def fahrenheit_to_celsius(fahrenheit):\n",
    "    return (fahrenheit - 32) * 5/9\n",
    "\n",
    "def fahrenheit_to_kelvin(fahrenheit):\n",
    "    return (fahrenheit - 32) * 5/9 + 273.15\n",
    "\n",
    "def kelvin_to_celsius(kelvin):\n",
    "    return kelvin - 273.15\n",
    "\n",
    "def kelvin_to_fahrenheit(kelvin):\n",
    "    return (kelvin - 273.15) * 9/5 + 32\n",
    "\n",
    "def convert_temperature(value, unit):\n",
    "    if unit == 'C':\n",
    "        fahrenheit = celsius_to_fahrenheit(value)\n",
    "        kelvin = celsius_to_kelvin(value)\n",
    "        return f\"{value}°C is {fahrenheit}°F and {kelvin}K.\"\n",
    "    \n",
    "    elif unit == 'F':\n",
    "        celsius = fahrenheit_to_celsius(value)\n",
    "        kelvin = fahrenheit_to_kelvin(value)\n",
    "        return f\"{value}°F is {celsius}°C and {kelvin}K.\"\n",
    "    \n",
    "    elif unit == 'K':\n",
    "        celsius = kelvin_to_celsius(value)\n",
    "        fahrenheit = kelvin_to_fahrenheit(value)\n",
    "        return f\"{value}K is {celsius}°C and {fahrenheit}°F.\"\n",
    "    \n",
    "    else:\n",
    "        return \"Invalid unit! Please use 'C' for Celsius, 'F' for Fahrenheit, or 'K' for Kelvin.\"\n",
    "\n",
    "# Main Program\n",
    "temperature = float(input(\"Enter the temperature value: \"))\n",
    "unit = input(\"Enter the unit of the temperature (C, F, K): \").upper()\n",
    "\n",
    "result = convert_temperature(temperature, unit)\n",
    "print(result)\n"
   ]
  },
  {
   "cell_type": "code",
   "execution_count": null,
   "id": "3aec88b9",
   "metadata": {},
   "outputs": [],
   "source": []
  }
 ],
 "metadata": {
  "kernelspec": {
   "display_name": "Python 3",
   "language": "python",
   "name": "python3"
  },
  "language_info": {
   "codemirror_mode": {
    "name": "ipython",
    "version": 3
   },
   "file_extension": ".py",
   "mimetype": "text/x-python",
   "name": "python",
   "nbconvert_exporter": "python",
   "pygments_lexer": "ipython3",
   "version": "3.8.8"
  }
 },
 "nbformat": 4,
 "nbformat_minor": 5
}
